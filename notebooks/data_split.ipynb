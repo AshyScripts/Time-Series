{
 "cells": [
  {
   "cell_type": "code",
   "execution_count": 21,
   "metadata": {},
   "outputs": [],
   "source": [
    "import numpy as np\n",
    "import pandas as pd\n",
    "import os\n",
    "import json"
   ]
  },
  {
   "cell_type": "code",
   "execution_count": 5,
   "metadata": {},
   "outputs": [],
   "source": [
    "df = pd.read_excel(r'E:\\NEU\\TA\\Time Series\\data\\raw_data\\AirQualityUCI.xlsx') #replace with your own path"
   ]
  },
  {
   "cell_type": "code",
   "execution_count": 6,
   "metadata": {},
   "outputs": [],
   "source": [
    "groups = df.groupby([df['Date'].dt.year, df['Date'].dt.month])\n",
    "data_chunks = {}\n",
    "\n",
    "# Iterate over the groups and save them in the dictionary\n",
    "for (year, month), group in groups:\n",
    "    key = f\"{month:02d}_{year}\"\n",
    "    data_chunks[key] = group\n",
    "\n",
    "#Create the output directory and save the dataframes\n",
    "output_directory = r'E:\\NEU\\TA\\Time Series\\data'\n",
    "os.makedirs(output_directory, exist_ok=True)\n",
    "\n",
    "for key, value in data_chunks.items():\n",
    "    value.to_csv(os.path.join(output_directory, f'{key}.csv'), index=False)\n"
   ]
  },
  {
   "cell_type": "code",
   "execution_count": 13,
   "metadata": {},
   "outputs": [
    {
     "data": {
      "text/plain": [
       "dict_keys(['03_2004', '04_2004', '05_2004', '06_2004', '07_2004', '08_2004', '09_2004', '10_2004', '11_2004', '12_2004', '01_2005', '02_2005', '03_2005', '04_2005'])"
      ]
     },
     "execution_count": 13,
     "metadata": {},
     "output_type": "execute_result"
    }
   ],
   "source": [
    "data_chunks.keys()"
   ]
  }
 ],
 "metadata": {
  "kernelspec": {
   "display_name": "timeseries_env",
   "language": "python",
   "name": "python3"
  },
  "language_info": {
   "codemirror_mode": {
    "name": "ipython",
    "version": 3
   },
   "file_extension": ".py",
   "mimetype": "text/x-python",
   "name": "python",
   "nbconvert_exporter": "python",
   "pygments_lexer": "ipython3",
   "version": "3.10.11"
  }
 },
 "nbformat": 4,
 "nbformat_minor": 2
}
